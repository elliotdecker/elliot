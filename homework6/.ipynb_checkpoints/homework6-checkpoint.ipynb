{
 "cells": [
  {
   "cell_type": "code",
   "execution_count": 1,
   "id": "5c7b318a-c891-4210-8bb6-9188ceadcbc9",
   "metadata": {},
   "outputs": [],
   "source": [
    "# 3 NumPy Arrays\n",
    "import numpy as np"
   ]
  },
  {
   "cell_type": "code",
   "execution_count": 2,
   "id": "3adc0dd6-8522-4396-a0be-0e91f25fbc9a",
   "metadata": {},
   "outputs": [],
   "source": [
    "# 3.1 1d NumPy Arrays\n",
    "list = [20, 27, 9, 12, 31, 17, 4, 50, 39, 35]\n",
    "arr = np.array(list)"
   ]
  },
  {
   "cell_type": "code",
   "execution_count": 3,
   "id": "bfa9e2a7-403a-42e1-87bc-ba86cd90fa3e",
   "metadata": {},
   "outputs": [
    {
     "name": "stdout",
     "output_type": "stream",
     "text": [
      "[ 80 108  36  48 124  68  16 200 156 140]\n"
     ]
    }
   ],
   "source": [
    "print(arr * 4)"
   ]
  },
  {
   "cell_type": "code",
   "execution_count": 4,
   "id": "12db84bd-1e24-4b25-8ad5-2be4f9c08755",
   "metadata": {},
   "outputs": [
    {
     "name": "stdout",
     "output_type": "stream",
     "text": [
      "24.4\n"
     ]
    }
   ],
   "source": [
    "print(np.mean(arr))"
   ]
  },
  {
   "cell_type": "code",
   "execution_count": 5,
   "id": "6dd6c206-68e5-4653-9097-6070ff87c696",
   "metadata": {},
   "outputs": [
    {
     "name": "stdout",
     "output_type": "stream",
     "text": [
      "23.5\n"
     ]
    }
   ],
   "source": [
    "print(np.median(arr))"
   ]
  },
  {
   "cell_type": "code",
   "execution_count": 6,
   "id": "34f344b7-9502-4ce7-9450-40ac82831444",
   "metadata": {},
   "outputs": [
    {
     "name": "stdout",
     "output_type": "stream",
     "text": [
      "13.828955130450023\n"
     ]
    }
   ],
   "source": [
    "print(np.std(arr))"
   ]
  },
  {
   "cell_type": "code",
   "execution_count": 7,
   "id": "18f6348c-dcea-487a-964b-181b92e66149",
   "metadata": {},
   "outputs": [
    {
     "name": "stdout",
     "output_type": "stream",
     "text": [
      "6\n",
      "7\n"
     ]
    }
   ],
   "source": [
    "print(np.argmin(arr))\n",
    "print(np.argmax(arr))"
   ]
  },
  {
   "cell_type": "code",
   "execution_count": 8,
   "id": "6a5c3e33-7bde-46f4-9ab1-55e555a02d1b",
   "metadata": {},
   "outputs": [
    {
     "name": "stdout",
     "output_type": "stream",
     "text": [
      "4\n",
      "50\n"
     ]
    }
   ],
   "source": [
    "print(arr[np.argmin(arr)])\n",
    "print(arr[np.argmax(arr)])"
   ]
  },
  {
   "cell_type": "code",
   "execution_count": 9,
   "id": "e4c9c2a1-b027-4182-a05f-0f6cb6945455",
   "metadata": {},
   "outputs": [
    {
     "name": "stdout",
     "output_type": "stream",
     "text": [
      "4\n",
      "50\n"
     ]
    }
   ],
   "source": [
    "print(np.min(arr))\n",
    "print(np.max(arr))"
   ]
  },
  {
   "cell_type": "code",
   "execution_count": 10,
   "id": "6b8f92d9-9ada-4d51-be71-ee1c79fe0873",
   "metadata": {},
   "outputs": [
    {
     "name": "stdout",
     "output_type": "stream",
     "text": [
      "[27 31 50 39 35]\n"
     ]
    }
   ],
   "source": [
    "greater_than_20 = arr[arr > 20]\n",
    "print(greater_than_20)"
   ]
  },
  {
   "cell_type": "code",
   "execution_count": 11,
   "id": "6d974f72-b925-4e31-bdd4-4bf542959cb2",
   "metadata": {},
   "outputs": [],
   "source": [
    "# 3.2 2D NumPy Arrays\n",
    "matrix = np.array([[5, 12, 17, 9],\n",
    "          [8, 21, 14, 3],\n",
    "          [6, 13, 19, 11]])"
   ]
  },
  {
   "cell_type": "code",
   "execution_count": 12,
   "id": "53c2fde2-2e48-4e94-bab8-814746c8b5cb",
   "metadata": {},
   "outputs": [
    {
     "name": "stdout",
     "output_type": "stream",
     "text": [
      "(3, 4)\n"
     ]
    }
   ],
   "source": [
    "print(matrix.shape)\n",
    "# 3 rows, 4 columns"
   ]
  },
  {
   "cell_type": "code",
   "execution_count": 13,
   "id": "118175b7-1ee6-409b-81de-d768f7f1b470",
   "metadata": {},
   "outputs": [
    {
     "name": "stdout",
     "output_type": "stream",
     "text": [
      "[17 14 19]\n"
     ]
    }
   ],
   "source": [
    "print(matrix[:, 2])"
   ]
  },
  {
   "cell_type": "code",
   "execution_count": 14,
   "id": "a97459d2-870e-4885-89ca-c596ed8d62b6",
   "metadata": {},
   "outputs": [
    {
     "name": "stdout",
     "output_type": "stream",
     "text": [
      "[ 8 21 14  3]\n"
     ]
    }
   ],
   "source": [
    "print(matrix[1, :])"
   ]
  },
  {
   "cell_type": "code",
   "execution_count": 15,
   "id": "248fa284-7121-408f-a482-79748bd2dcd9",
   "metadata": {},
   "outputs": [
    {
     "name": "stdout",
     "output_type": "stream",
     "text": [
      "[[10 24 34 18]\n",
      " [16 42 28  6]\n",
      " [12 26 38 22]]\n"
     ]
    }
   ],
   "source": [
    "print(matrix * 2)"
   ]
  },
  {
   "cell_type": "code",
   "execution_count": 16,
   "id": "a60867d5-ba24-4c2c-81a6-e6744449358a",
   "metadata": {},
   "outputs": [
    {
     "name": "stdout",
     "output_type": "stream",
     "text": [
      "[ 6.33333333 15.33333333 16.66666667  7.66666667]\n"
     ]
    }
   ],
   "source": [
    "print(np.mean(matrix, axis = 0))"
   ]
  },
  {
   "cell_type": "code",
   "execution_count": 17,
   "id": "676c0c05-9f7d-4198-bb57-42b058d5a5af",
   "metadata": {},
   "outputs": [
    {
     "name": "stdout",
     "output_type": "stream",
     "text": [
      "11.5\n"
     ]
    }
   ],
   "source": [
    "print(np.mean(matrix))"
   ]
  },
  {
   "cell_type": "code",
   "execution_count": 18,
   "id": "5f71b2d6-5655-4912-b990-e57eecd08db6",
   "metadata": {},
   "outputs": [
    {
     "name": "stdout",
     "output_type": "stream",
     "text": [
      "[17 21 19]\n",
      "[ 5 12 14  3]\n"
     ]
    }
   ],
   "source": [
    "print(np.max(matrix, axis = 1))\n",
    "print(np.min(matrix, axis = 0))"
   ]
  },
  {
   "cell_type": "code",
   "execution_count": 19,
   "id": "1a2fc745-2678-4b16-9f36-d22dc5eb27c1",
   "metadata": {},
   "outputs": [
    {
     "name": "stdout",
     "output_type": "stream",
     "text": [
      "[ 5 12 17  9  8 21 14  3  6 13 19 11]\n"
     ]
    },
    {
     "data": {
      "text/plain": [
       "' It is now a 1D array, where the rows have been flattened into 1 row.'"
      ]
     },
     "execution_count": 19,
     "metadata": {},
     "output_type": "execute_result"
    }
   ],
   "source": [
    "print(matrix.flatten())\n",
    "\" It is now a 1D array, where the rows have been flattened into 1 row.\""
   ]
  },
  {
   "cell_type": "code",
   "execution_count": 20,
   "id": "d6addd31-615d-4f44-9a9b-eae4173f5f39",
   "metadata": {},
   "outputs": [
    {
     "name": "stdout",
     "output_type": "stream",
     "text": [
      "7\n",
      "5\n"
     ]
    }
   ],
   "source": [
    "print(np.argmin(matrix))\n",
    "print(np.argmax(matrix))"
   ]
  },
  {
   "cell_type": "code",
   "execution_count": 21,
   "id": "4d8103cf-9bee-4afb-880a-4eabbf003885",
   "metadata": {},
   "outputs": [
    {
     "name": "stdout",
     "output_type": "stream",
     "text": [
      "(np.int64(1), np.int64(3))\n",
      "(np.int64(1), np.int64(1))\n"
     ]
    }
   ],
   "source": [
    "print(np.unravel_index(np.argmin(matrix), matrix.shape))\n",
    "print(np.unravel_index(np.argmax(matrix), matrix.shape))"
   ]
  },
  {
   "cell_type": "code",
   "execution_count": 22,
   "id": "d7da756c-d0ff-4775-b113-5d9592fcac51",
   "metadata": {},
   "outputs": [
    {
     "name": "stdout",
     "output_type": "stream",
     "text": [
      "[17 21 19]\n"
     ]
    }
   ],
   "source": [
    "print(matrix[matrix > 15])"
   ]
  },
  {
   "cell_type": "code",
   "execution_count": 23,
   "id": "4e2b4b95-35ac-4b72-942f-229814806674",
   "metadata": {},
   "outputs": [
    {
     "name": "stdout",
     "output_type": "stream",
     "text": [
      "[[ 5  9 12 17]\n",
      " [ 3  8 14 21]\n",
      " [ 6 11 13 19]]\n"
     ]
    }
   ],
   "source": [
    "print(np.sort(matrix, axis = 1))"
   ]
  },
  {
   "cell_type": "code",
   "execution_count": 24,
   "id": "909b3e86-1f75-40fb-a846-7c725fd1610c",
   "metadata": {},
   "outputs": [
    {
     "name": "stdout",
     "output_type": "stream",
     "text": [
      "[[ 2  3  5]\n",
      " [11 13 17]\n",
      " [ 7 10 13]]\n"
     ]
    }
   ],
   "source": [
    "# 4 Prime Star Systems\n",
    "arr = np.array([[2, 3, 5],\n",
    "               [14, 6, 8,],\n",
    "               [11, 13, 17],\n",
    "               [7, 10, 13]])\n",
    "\n",
    "def prime_matrix(n):\n",
    "    if n < 2:\n",
    "        return False\n",
    "    for i in range(2, int(n**0.5)+1):\n",
    "        if n % i == 0:\n",
    "            return False\n",
    "    return True\n",
    "rows_with_prime = np.array([row for row in arr if any(prime_matrix(x) for x in row)])\n",
    "print(rows_with_prime)"
   ]
  },
  {
   "cell_type": "code",
   "execution_count": 25,
   "id": "e2491d8a-bcad-4719-a160-2ec61c8ef3e1",
   "metadata": {},
   "outputs": [
    {
     "name": "stdout",
     "output_type": "stream",
     "text": [
      "[[1. 0. 1. 0. 1. 0. 1. 0.]\n",
      " [0. 1. 0. 1. 0. 1. 0. 1.]\n",
      " [1. 0. 1. 0. 1. 0. 1. 0.]\n",
      " [0. 1. 0. 1. 0. 1. 0. 1.]\n",
      " [1. 0. 1. 0. 1. 0. 1. 0.]\n",
      " [0. 1. 0. 1. 0. 1. 0. 1.]\n",
      " [1. 0. 1. 0. 1. 0. 1. 0.]\n",
      " [0. 1. 0. 1. 0. 1. 0. 1.]]\n"
     ]
    }
   ],
   "source": [
    "# 5 Let's Play Checkers!\n",
    "# 5.1 \n",
    "def eight_by_eight_zeros():\n",
    "    board = np.zeros((8, 8))\n",
    "    return board\n",
    "\n",
    "# 5.2 and 5.3\n",
    "def checkerboard():\n",
    "    board = np.zeros((8, 8))\n",
    "    for i in range(8):\n",
    "        for j in range(8):\n",
    "            if (i + j) % 2 == 0:\n",
    "                board[i, j] = 1\n",
    "    return board\n",
    "print(checkerboard())"
   ]
  },
  {
   "cell_type": "code",
   "execution_count": 26,
   "id": "b6ebde23-1923-4e95-a5b1-9aa6d970a78b",
   "metadata": {},
   "outputs": [
    {
     "name": "stdout",
     "output_type": "stream",
     "text": [
      "[[0. 1. 0. 1. 0. 1. 0. 1.]\n",
      " [1. 0. 1. 0. 1. 0. 1. 0.]\n",
      " [0. 1. 0. 1. 0. 1. 0. 1.]\n",
      " [1. 0. 1. 0. 1. 0. 1. 0.]\n",
      " [0. 1. 0. 1. 0. 1. 0. 1.]\n",
      " [1. 0. 1. 0. 1. 0. 1. 0.]\n",
      " [0. 1. 0. 1. 0. 1. 0. 1.]\n",
      " [1. 0. 1. 0. 1. 0. 1. 0.]]\n"
     ]
    }
   ],
   "source": [
    "# 5.4\n",
    "def reverse_checkerboard():\n",
    "    board = np.zeros((8, 8))\n",
    "    for i in range(8):\n",
    "        for j in range(8):\n",
    "            if (i + j) % 2 == 0:\n",
    "                board[i, j] = 1\n",
    "    return 1 - board\n",
    "print(reverse_checkerboard())"
   ]
  },
  {
   "cell_type": "code",
   "execution_count": 27,
   "id": "47cbd491-03ad-4c68-ba37-81f2fdac0666",
   "metadata": {},
   "outputs": [
    {
     "name": "stdout",
     "output_type": "stream",
     "text": [
      "['g  a  l  a  x  y' 'c  l  u  s  t  e  r  s']\n"
     ]
    }
   ],
   "source": [
    "#6 The Expanding Universe\n",
    "def expansion(words, n):\n",
    "    expanded = [' '.join((word)).replace(' ', ' ' * (n + 1)) for word in words]\n",
    "    return np.array(expanded)\n",
    "example = np.array(['galaxy', 'clusters'])\n",
    "print(expansion(example, 1))"
   ]
  },
  {
   "cell_type": "code",
   "execution_count": 28,
   "id": "fa61b714-9ad9-40d5-9e74-80eb0df5e7be",
   "metadata": {},
   "outputs": [
    {
     "name": "stdout",
     "output_type": "stream",
     "text": [
      "[[1889 1906 1846 1622 1541]\n",
      " [ 606 1647 1738  596  613]\n",
      " [1138  547  573 1442  724]\n",
      " [ 611 1933 1863 1346 1777]\n",
      " [ 920 1108 1732 1592  951]]\n",
      "[1889 1647 1138 1863 1592]\n"
     ]
    }
   ],
   "source": [
    "# 7 Second-Brightest Star\n",
    "def second_brightest(stars):\n",
    "    sorted_rows = np.sort(stars, axis = 1)\n",
    "    return sorted_rows[:, -2]\n",
    "# ex:\n",
    "np.random.seed(123)\n",
    "stars = np.random.randint(500, 2000, (5, 5))\n",
    "print(stars)\n",
    "print(second_brightest(stars))"
   ]
  },
  {
   "cell_type": "code",
   "execution_count": null,
   "id": "0864aae2-3819-4ae3-b07e-33529a6fd463",
   "metadata": {},
   "outputs": [],
   "source": []
  }
 ],
 "metadata": {
  "kernelspec": {
   "display_name": "Python 3 (ipykernel)",
   "language": "python",
   "name": "python3"
  },
  "language_info": {
   "codemirror_mode": {
    "name": "ipython",
    "version": 3
   },
   "file_extension": ".py",
   "mimetype": "text/x-python",
   "name": "python",
   "nbconvert_exporter": "python",
   "pygments_lexer": "ipython3",
   "version": "3.13.5"
  }
 },
 "nbformat": 4,
 "nbformat_minor": 5
}
