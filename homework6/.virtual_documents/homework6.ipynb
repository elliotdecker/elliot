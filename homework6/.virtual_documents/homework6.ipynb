# 3 NumPy Arrays
import numpy as np


# 3.1 1d NumPy Arrays
list = [20, 27, 9, 12, 31, 17, 4, 50, 39, 35]
arr = np.array(list)


print(arr * 4)


print(np.mean(arr))


print(np.median(arr))


print(np.std(arr))


print(np.argmin(arr))
print(np.argmax(arr))


print(arr[np.argmin(arr)])
print(arr[np.argmax(arr)])


print(np.min(arr))
print(np.max(arr))


greater_than_20 = arr[arr > 20]
print(greater_than_20)


# 3.2 2D NumPy Arrays
matrix = np.array([[5, 12, 17, 9],
          [8, 21, 14, 3],
          [6, 13, 19, 11]])


print(matrix.shape)
# 3 rows, 4 columns


print(matrix[:, 2])


print(matrix[1, :])


print(matrix * 2)


print(np.mean(matrix, axis = 0))


print(np.mean(matrix))


print(np.max(matrix, axis = 1))
print(np.min(matrix, axis = 0))


print(matrix.flatten())
" It is now a 1D array, where the rows have been flattened into 1 row."


print(np.argmin(matrix))
print(np.argmax(matrix))


print(np.unravel_index(np.argmin(matrix), matrix.shape))
print(np.unravel_index(np.argmax(matrix), matrix.shape))


print(matrix[matrix > 15])


print(np.sort(matrix, axis = 1))


# 4 Prime Star Systems
arr = np.array([[2, 3, 5],
               [14, 6, 8,],
               [11, 13, 17],
               [7, 10, 13]])

def prime_matrix(n):
    if n < 2:
        return False
    for i in range(2, int(n**0.5)+1):
        if n % i == 0:
            return False
    return True
rows_with_prime = np.array([row for row in arr if any(prime_matrix(x) for x in row)])
print(rows_with_prime)


# 5 Let's Play Checkers!
# 5.1 
def eight_by_eight_zeros():
    board = np.zeros((8, 8))
    return board

# 5.2 and 5.3
def checkerboard():
    board = np.zeros((8, 8))
    for i in range(8):
        for j in range(8):
            if (i + j) % 2 == 0:
                board[i, j] = 1
    return board
print(checkerboard())


# 5.4
def reverse_checkerboard():
    board = np.zeros((8, 8))
    for i in range(8):
        for j in range(8):
            if (i + j) % 2 == 0:
                board[i, j] = 1
    return 1 - board
print(reverse_checkerboard())


#6 The Expanding Universe
def expansion(words, n):
    expanded = [' '.join((word)).replace(' ', ' ' * (n + 1)) for word in words]
    return np.array(expanded)
example = np.array(['galaxy', 'clusters'])
print(expansion(example, 1))


# 7 Second-Brightest Star
def second_brightest(stars):
    sorted_rows = np.sort(stars, axis = 1)
    return sorted_rows[:, -2]
# ex:
np.random.seed(123)
stars = np.random.randint(500, 2000, (5, 5))
print(stars)
print(second_brightest(stars))



